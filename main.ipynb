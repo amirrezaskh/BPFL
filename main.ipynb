{
 "cells": [
  {
   "cell_type": "code",
   "execution_count": 11,
   "metadata": {},
   "outputs": [],
   "source": [
    "from tqdm import tqdm\n",
    "import random\n",
    "import torch\n",
    "from torch import nn\n",
    "from torchvision import datasets\n",
    "from torch.utils.data import DataLoader\n",
    "from torchvision.transforms import v2, ToTensor\n",
    "from torchvision.models import resnet18"
   ]
  },
  {
   "cell_type": "code",
   "execution_count": 12,
   "metadata": {},
   "outputs": [],
   "source": [
    "transforms = v2.Compose([\n",
    "    v2.RandomHorizontalFlip(),\n",
    "    v2.RandomRotation(10),\n",
    "    v2.RandomAffine(0, shear=10, scale=(0.8, 1.2)),\n",
    "    v2.ColorJitter(brightness=0.2, contrast=0.2, saturation=0.2),\n",
    "    v2.ToTensor()\n",
    "])"
   ]
  },
  {
   "cell_type": "code",
   "execution_count": 13,
   "metadata": {},
   "outputs": [],
   "source": [
    "train_dataset = datasets.CIFAR100(\n",
    "    root=\"./nodes/data\",\n",
    "    download=False,\n",
    "    train=True,\n",
    "    transform=transforms\n",
    ")\n",
    "\n",
    "\n",
    "test_dataset = datasets.CIFAR100(\n",
    "    root=\"./nodes/data\",\n",
    "    download=False,\n",
    "    train=False, \n",
    "    transform=ToTensor()\n",
    ")"
   ]
  },
  {
   "cell_type": "code",
   "execution_count": 14,
   "metadata": {},
   "outputs": [],
   "source": [
    "batch_size = 32\n",
    "epochs = 20\n",
    "learning_rate = 1e-3\n",
    "weight_decay = 1e-4"
   ]
  },
  {
   "cell_type": "code",
   "execution_count": 15,
   "metadata": {},
   "outputs": [],
   "source": [
    "val_size = len(test_dataset) // 2\n",
    "val_dataset = torch.utils.data.Subset(test_dataset, range(val_size))\n",
    "test_dataset = torch.utils.data.Subset(test_dataset, range(val_size, len(test_dataset)))\n",
    "\n",
    "\n",
    "train_dataloader = DataLoader(train_dataset, batch_size=batch_size)\n",
    "val_dataloader = DataLoader(val_dataset, batch_size=val_size)\n",
    "test_dataloader = DataLoader(test_dataset, batch_size=batch_size)"
   ]
  },
  {
   "cell_type": "code",
   "execution_count": 16,
   "metadata": {},
   "outputs": [],
   "source": [
    "class Classifier(nn.Module):\n",
    "    def __init__(self, num_classes=100):\n",
    "        super().__init__()\n",
    "\n",
    "        self.resnet = resnet18(pretrained=False)\n",
    "        self.resnet.conv1 = nn.Conv2d(3, 64, kernel_size=3, stride=1, padding=1, bias=False)\n",
    "        self.resnet.maxpool = nn.Identity()\n",
    "        self.resnet.fc = nn.Linear(self.resnet.fc.in_features, num_classes)\n",
    "\n",
    "    def forward(self, x):\n",
    "        return self.resnet(x)"
   ]
  },
  {
   "cell_type": "code",
   "execution_count": 17,
   "metadata": {},
   "outputs": [],
   "source": [
    "device = \"cuda\" if torch.cuda.is_available() else \"cpu\"\n",
    "model = Classifier(num_classes=100).to(device)\n",
    "optimizer = torch.optim.Adam(params=model.parameters(), lr=learning_rate, weight_decay=weight_decay)\n",
    "loss_fn = nn.CrossEntropyLoss()\n",
    "scheduler = torch.optim.lr_scheduler.ReduceLROnPlateau(optimizer, \"min\", patience=3)"
   ]
  },
  {
   "cell_type": "code",
   "execution_count": 18,
   "metadata": {},
   "outputs": [],
   "source": [
    "def train():\n",
    "    model.train()\n",
    "    losses = []\n",
    "    model.train()\n",
    "    for b, (X, y) in tqdm(enumerate(train_dataloader)):\n",
    "        X, y = X.to(device), y.to(device)\n",
    "        pred = model(X)\n",
    "        loss = loss_fn(pred, y)\n",
    "\n",
    "        loss.backward()\n",
    "        optimizer.step()\n",
    "        optimizer.zero_grad()\n",
    "        losses.append(loss.item())\n",
    "    return sum(losses)/len(losses)"
   ]
  },
  {
   "cell_type": "code",
   "execution_count": 19,
   "metadata": {},
   "outputs": [],
   "source": [
    "def validate():\n",
    "    model.eval()\n",
    "    with torch.no_grad():\n",
    "        X, y = next(iter(val_dataloader))\n",
    "        X, y = X.to(device), y.to(device)\n",
    "        pred = model(X)\n",
    "        loss = loss_fn(pred, y)\n",
    "    return loss.item()"
   ]
  },
  {
   "cell_type": "code",
   "execution_count": 20,
   "metadata": {},
   "outputs": [
    {
     "name": "stderr",
     "output_type": "stream",
     "text": [
      "1563it [00:58, 26.89it/s]\n",
      "1563it [00:52, 29.59it/s]\n",
      "1563it [00:52, 29.91it/s]\n",
      "1563it [00:52, 29.71it/s]\n",
      "1563it [00:52, 29.83it/s]\n",
      "1563it [00:53, 29.37it/s]\n",
      "1563it [00:52, 29.57it/s]\n",
      "1563it [00:52, 29.55it/s]\n",
      "1563it [00:52, 29.54it/s]\n",
      "1563it [00:53, 29.23it/s]\n",
      "1563it [00:52, 29.59it/s]\n",
      "1563it [00:52, 29.50it/s]\n",
      "1563it [00:53, 29.43it/s]\n",
      "1563it [00:53, 29.37it/s]\n",
      "1563it [00:53, 29.38it/s]\n",
      "1563it [00:52, 29.52it/s]\n",
      "1563it [00:53, 29.38it/s]\n",
      "1563it [00:52, 29.61it/s]\n",
      "1563it [00:52, 29.55it/s]\n",
      "1563it [00:52, 29.66it/s]\n"
     ]
    }
   ],
   "source": [
    "train_losses = []\n",
    "val_losses = []\n",
    "for e in range(epochs):\n",
    "    loss = train()\n",
    "    train_losses.append(loss)\n",
    "    val_loss = validate()\n",
    "    val_losses.append(val_loss)\n",
    "    scheduler.step(val_loss)"
   ]
  },
  {
   "cell_type": "code",
   "execution_count": 21,
   "metadata": {},
   "outputs": [
    {
     "data": {
      "image/png": "[encoded data removed]",
      "text/plain": [
       "<Figure size 640x480 with 1 Axes>"
      ]
     },
     "metadata": {},
     "output_type": "display_data"
    }
   ],
   "source": [
    "import matplotlib.pyplot as plt\n",
    "\n",
    "plt.plot(train_losses)\n",
    "plt.plot(val_losses)\n",
    "plt.show()"
   ]
  }
 ],
 "metadata": {
  "kernelspec": {
   "display_name": "data-science",
   "language": "python",
   "name": "python3"
  },
  "language_info": {
   "codemirror_mode": {
    "name": "ipython",
    "version": 3
   },
   "file_extension": ".py",
   "mimetype": "text/x-python",
   "name": "python",
   "nbconvert_exporter": "python",
   "pygments_lexer": "ipython3",
   "version": "3.10.16"
  }
 },
 "nbformat": 4,
 "nbformat_minor": 2
}
