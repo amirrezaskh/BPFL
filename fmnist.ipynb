{
 "cells": [
  {
   "cell_type": "code",
   "execution_count": 1,
   "metadata": {},
   "outputs": [],
   "source": [
    "from tqdm import tqdm\n",
    "import random\n",
    "import json\n",
    "import torch\n",
    "from torch import nn\n",
    "from torchvision import datasets\n",
    "from torch.utils.data import DataLoader\n",
    "from torchvision.transforms import v2, ToTensor\n",
    "from torchvision.models import resnet18"
   ]
  },
  {
   "cell_type": "code",
   "execution_count": 2,
   "metadata": {},
   "outputs": [
    {
     "name": "stderr",
     "output_type": "stream",
     "text": [
      "/home/cs/grad/sokhanka/miniconda3/envs/data-science/lib/python3.10/site-packages/torchvision/transforms/v2/_deprecated.py:42: UserWarning: The transform `ToTensor()` is deprecated and will be removed in a future release. Instead, please use `v2.Compose([v2.ToImage(), v2.ToDtype(torch.float32, scale=True)])`.Output is equivalent up to float precision.\n",
      "  warnings.warn(\n"
     ]
    }
   ],
   "source": [
    "transforms = v2.Compose([\n",
    "            v2.RandomHorizontalFlip(),\n",
    "            v2.RandomRotation(10),\n",
    "            v2.RandomAffine(0, shear=10, scale=(0.8, 1.2)),\n",
    "            v2.ColorJitter(brightness=0.2, contrast=0.2, saturation=0.2),\n",
    "            v2.ToTensor()\n",
    "])"
   ]
  },
  {
   "cell_type": "code",
   "execution_count": 3,
   "metadata": {},
   "outputs": [],
   "source": [
    "train_dataset = datasets.FashionMNIST(\n",
    "    root=\"./nodes/data\",\n",
    "    download=False,\n",
    "    train=True,\n",
    "    transform=transforms\n",
    ")\n",
    "\n",
    "test_dataset = datasets.FashionMNIST(\n",
    "    root=\"./nodes/data\",\n",
    "    download=False,\n",
    "    train=False, \n",
    "    transform=ToTensor()\n",
    ")"
   ]
  },
  {
   "cell_type": "code",
   "execution_count": 4,
   "metadata": {},
   "outputs": [],
   "source": [
    "batch_size = 32\n",
    "epochs = 100\n",
    "num_classes = 10\n",
    "learning_rate = 1e-3\n",
    "weight_decay = 1e-4"
   ]
  },
  {
   "cell_type": "code",
   "execution_count": 5,
   "metadata": {},
   "outputs": [],
   "source": [
    "val_size = len(test_dataset) // 2\n",
    "val_dataset = torch.utils.data.Subset(test_dataset, range(val_size))\n",
    "test_dataset = torch.utils.data.Subset(test_dataset, range(val_size, len(test_dataset)))\n",
    "\n",
    "\n",
    "train_dataloader = DataLoader(train_dataset, batch_size=batch_size)\n",
    "val_dataloader = DataLoader(val_dataset, batch_size=val_size)\n",
    "test_dataloader = DataLoader(test_dataset, batch_size=batch_size)"
   ]
  },
  {
   "cell_type": "code",
   "execution_count": 6,
   "metadata": {},
   "outputs": [],
   "source": [
    "class LeNet5(nn.Module):\n",
    "    def __init__(self, num_classes=10):\n",
    "        super().__init__()\n",
    "        self.conv1 = nn.Conv2d(1, 6, kernel_size=5, stride=1)\n",
    "        self.ap = nn.AvgPool2d(kernel_size=2, stride=2)\n",
    "        self.conv2 = nn.Conv2d(6, 16, kernel_size=5, stride=1)\n",
    "        self.fc1 = nn.Linear(16 * 4 * 4, 120)\n",
    "        self.fc2 = nn.Linear(120, 84)\n",
    "        self.fc3 = nn.Linear(84, num_classes)\n",
    "        self.tanh = nn.Tanh()\n",
    "\n",
    "    def forward(self, x):\n",
    "        x = self.tanh(self.conv1(x))\n",
    "        x = self.tanh(self.ap(x))\n",
    "        x = self.tanh(self.conv2(x))\n",
    "        x = self.tanh(self.ap(x))\n",
    "        x = torch.flatten(x, 1)\n",
    "        x = self.tanh(self.fc1(x))\n",
    "        x = self.tanh(self.fc2(x))\n",
    "        return self.fc3(x)"
   ]
  },
  {
   "cell_type": "code",
   "execution_count": 7,
   "metadata": {},
   "outputs": [],
   "source": [
    "device = \"cuda\" if torch.cuda.is_available() else \"cpu\"\n",
    "model = LeNet5(num_classes=num_classes).to(device)\n",
    "optimizer = torch.optim.Adam(params=model.parameters(), lr=learning_rate, weight_decay=weight_decay)\n",
    "loss_fn = nn.CrossEntropyLoss()\n",
    "scheduler = torch.optim.lr_scheduler.ReduceLROnPlateau(optimizer, \"min\", patience=3)"
   ]
  },
  {
   "cell_type": "code",
   "execution_count": 8,
   "metadata": {},
   "outputs": [],
   "source": [
    "def train():\n",
    "    model.train()\n",
    "    losses = []\n",
    "    model.train()\n",
    "    for b, (X, y) in tqdm(enumerate(train_dataloader)):\n",
    "        X, y = X.to(device), y.to(device)\n",
    "        pred = model(X)\n",
    "        loss = loss_fn(pred, y)\n",
    "\n",
    "        loss.backward()\n",
    "        optimizer.step()\n",
    "        optimizer.zero_grad()\n",
    "        losses.append(loss.item())\n",
    "    return sum(losses)/len(losses)"
   ]
  },
  {
   "cell_type": "code",
   "execution_count": 9,
   "metadata": {},
   "outputs": [],
   "source": [
    "def validate():\n",
    "    model.eval()\n",
    "    with torch.no_grad():\n",
    "        X, y = next(iter(val_dataloader))\n",
    "        X, y = X.to(device), y.to(device)\n",
    "        pred = model(X)\n",
    "        loss = loss_fn(pred, y)\n",
    "    return loss.item()"
   ]
  },
  {
   "cell_type": "code",
   "execution_count": 10,
   "metadata": {},
   "outputs": [
    {
     "name": "stderr",
     "output_type": "stream",
     "text": [
      "1875it [00:41, 45.02it/s]\n",
      "1875it [00:39, 47.14it/s]\n",
      "1875it [00:40, 46.74it/s]\n",
      "1875it [00:39, 46.92it/s]\n",
      "1875it [00:44, 42.50it/s]\n",
      "1875it [00:43, 43.14it/s]\n",
      "1875it [00:44, 41.83it/s]\n",
      "1875it [00:43, 43.31it/s]\n",
      "1875it [00:42, 43.62it/s]\n",
      "1875it [00:43, 42.66it/s]\n",
      "1875it [00:42, 44.57it/s]\n",
      "1875it [00:45, 41.34it/s]\n",
      "1875it [00:40, 46.67it/s]\n",
      "1875it [00:42, 43.94it/s]\n",
      "1875it [00:43, 43.03it/s]\n",
      "1875it [00:40, 46.52it/s]\n",
      "1875it [00:45, 40.94it/s]\n",
      "1875it [00:42, 44.49it/s]\n",
      "1875it [00:41, 44.76it/s]\n",
      "1875it [00:40, 46.39it/s]\n",
      "1875it [00:44, 41.67it/s]\n",
      "1875it [00:45, 41.56it/s]\n",
      "1875it [00:44, 41.85it/s]\n",
      "1875it [00:39, 47.09it/s]\n",
      "1875it [00:42, 44.23it/s]\n",
      "1875it [00:46, 40.67it/s]\n",
      "1875it [00:45, 41.30it/s]\n",
      "1875it [00:42, 44.48it/s]\n",
      "1875it [00:39, 47.52it/s]\n",
      "1875it [00:37, 49.92it/s]\n",
      "1875it [00:43, 43.37it/s]\n",
      "1875it [00:42, 44.30it/s]\n",
      "1875it [00:40, 46.56it/s]\n",
      "1875it [00:38, 49.07it/s]\n",
      "1875it [00:39, 46.88it/s]\n",
      "1875it [00:39, 46.91it/s]\n",
      "1875it [00:39, 47.23it/s]\n",
      "1875it [00:39, 47.38it/s]\n",
      "1875it [00:40, 46.13it/s]\n",
      "1875it [00:40, 46.74it/s]\n",
      "1875it [00:40, 45.98it/s]\n",
      "1875it [00:39, 47.80it/s]\n",
      "1875it [00:40, 46.87it/s]\n",
      "1875it [00:40, 46.10it/s]\n",
      "1875it [00:46, 40.57it/s]\n",
      "1875it [00:42, 43.74it/s]\n",
      "1875it [00:40, 45.89it/s]\n",
      "1875it [00:39, 47.09it/s]\n",
      "1875it [00:41, 45.24it/s]\n",
      "1875it [00:43, 43.52it/s]\n",
      "1875it [00:41, 44.69it/s]\n",
      "1875it [00:40, 46.67it/s]\n",
      "1875it [00:44, 41.87it/s]\n",
      "1875it [00:44, 41.72it/s]\n",
      "1875it [00:43, 43.52it/s]\n",
      "1875it [00:41, 45.03it/s]\n",
      "1875it [00:43, 43.33it/s]\n",
      "1875it [00:45, 41.60it/s]\n",
      "1875it [00:41, 44.80it/s]\n",
      "1875it [00:40, 46.76it/s]\n",
      "1875it [00:39, 47.31it/s]\n",
      "1875it [00:39, 46.93it/s]\n",
      "1875it [00:40, 46.81it/s]\n",
      "1875it [00:40, 46.84it/s]\n",
      "1875it [00:40, 46.54it/s]\n",
      "1875it [00:40, 46.77it/s]\n",
      "1875it [00:39, 46.89it/s]\n",
      "1875it [00:39, 47.05it/s]\n",
      "1875it [00:39, 47.14it/s]\n",
      "1875it [00:39, 47.14it/s]\n",
      "1875it [00:43, 43.54it/s]\n",
      "1875it [00:40, 46.67it/s]\n",
      "1875it [00:45, 41.22it/s]\n",
      "1875it [00:46, 40.59it/s]\n",
      "1875it [00:46, 40.68it/s]\n",
      "1875it [00:42, 44.29it/s]\n",
      "1875it [00:41, 45.50it/s]\n",
      "1875it [00:40, 46.06it/s]\n",
      "1875it [00:40, 46.31it/s]\n",
      "1875it [00:40, 46.77it/s]\n",
      "1875it [00:41, 45.30it/s]\n",
      "1875it [00:41, 44.96it/s]\n",
      "1875it [00:43, 43.45it/s]\n",
      "1875it [00:46, 40.70it/s]\n",
      "1875it [00:45, 40.88it/s]\n",
      "1875it [00:44, 41.91it/s]\n",
      "1875it [00:42, 44.30it/s]\n",
      "1875it [00:44, 42.15it/s]\n",
      "1875it [00:42, 44.05it/s]\n",
      "1875it [00:42, 43.82it/s]\n",
      "1875it [00:39, 47.74it/s]\n",
      "1875it [00:39, 47.13it/s]\n",
      "1875it [00:39, 47.00it/s]\n",
      "1875it [00:39, 47.51it/s]\n",
      "1875it [00:38, 48.12it/s]\n",
      "1875it [00:39, 47.67it/s]\n",
      "1875it [00:37, 49.76it/s]\n",
      "1875it [00:37, 49.76it/s]\n",
      "1875it [00:39, 47.60it/s]\n",
      "1875it [00:38, 49.06it/s]\n"
     ]
    }
   ],
   "source": [
    "data = []\n",
    "for e in range(epochs):\n",
    "    loss = train()\n",
    "    val_loss = validate()\n",
    "    scheduler.step(val_loss)\n",
    "    data.append({\n",
    "        \"epoch\" : e + 1,\n",
    "        \"train_loss\" : loss,\n",
    "        \"val_loss\" : val_loss\n",
    "    })"
   ]
  },
  {
   "cell_type": "code",
   "execution_count": 11,
   "metadata": {},
   "outputs": [],
   "source": [
    "with open(\"./results/fmnist.json\", \"w\") as f:\n",
    "    f.write(json.dumps(data, indent=2))"
   ]
  }
 ],
 "metadata": {
  "kernelspec": {
   "display_name": "data-science",
   "language": "python",
   "name": "python3"
  },
  "language_info": {
   "codemirror_mode": {
    "name": "ipython",
    "version": 3
   },
   "file_extension": ".py",
   "mimetype": "text/x-python",
   "name": "python",
   "nbconvert_exporter": "python",
   "pygments_lexer": "ipython3",
   "version": "3.10.16"
  }
 },
 "nbformat": 4,
 "nbformat_minor": 2
}
