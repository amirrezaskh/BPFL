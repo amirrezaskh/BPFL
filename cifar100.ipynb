{
 "cells": [
  {
   "cell_type": "code",
   "execution_count": 1,
   "metadata": {},
   "outputs": [],
   "source": [
    "from tqdm import tqdm\n",
    "import random\n",
    "import json\n",
    "import torch\n",
    "from torch import nn\n",
    "from torchvision import datasets\n",
    "from torch.utils.data import DataLoader\n",
    "from torchvision.transforms import v2, ToTensor\n",
    "from torchvision.models import resnet18"
   ]
  },
  {
   "cell_type": "code",
   "execution_count": 2,
   "metadata": {},
   "outputs": [
    {
     "name": "stderr",
     "output_type": "stream",
     "text": [
      "/home/cs/grad/sokhanka/miniconda3/envs/data-science/lib/python3.10/site-packages/torchvision/transforms/v2/_deprecated.py:42: UserWarning: The transform `ToTensor()` is deprecated and will be removed in a future release. Instead, please use `v2.Compose([v2.ToImage(), v2.ToDtype(torch.float32, scale=True)])`.Output is equivalent up to float precision.\n",
      "  warnings.warn(\n"
     ]
    }
   ],
   "source": [
    "transforms = v2.Compose([\n",
    "            v2.RandomHorizontalFlip(),\n",
    "            v2.RandomRotation(10),\n",
    "            v2.RandomAffine(0, shear=10, scale=(0.8, 1.2)),\n",
    "            v2.ColorJitter(brightness=0.2, contrast=0.2, saturation=0.2),\n",
    "            v2.ToTensor()\n",
    "])"
   ]
  },
  {
   "cell_type": "code",
   "execution_count": 3,
   "metadata": {},
   "outputs": [],
   "source": [
    "train_dataset = datasets.CIFAR100(\n",
    "    root=\"./nodes/data\",\n",
    "    download=False,\n",
    "    train=True,\n",
    "    transform=transforms\n",
    ")\n",
    "\n",
    "test_dataset = datasets.CIFAR100(\n",
    "    root=\"./nodes/data\",\n",
    "    download=False,\n",
    "    train=False, \n",
    "    transform=ToTensor()\n",
    ")"
   ]
  },
  {
   "cell_type": "code",
   "execution_count": 4,
   "metadata": {},
   "outputs": [],
   "source": [
    "batch_size = 32\n",
    "epochs = 100\n",
    "num_classes = 100\n",
    "learning_rate = 1e-3\n",
    "weight_decay = 1e-4"
   ]
  },
  {
   "cell_type": "code",
   "execution_count": 5,
   "metadata": {},
   "outputs": [],
   "source": [
    "val_size = len(test_dataset) // 2\n",
    "val_dataset = torch.utils.data.Subset(test_dataset, range(val_size))\n",
    "test_dataset = torch.utils.data.Subset(test_dataset, range(val_size, len(test_dataset)))\n",
    "\n",
    "\n",
    "train_dataloader = DataLoader(train_dataset, batch_size=batch_size)\n",
    "val_dataloader = DataLoader(val_dataset, batch_size=val_size)\n",
    "test_dataloader = DataLoader(test_dataset, batch_size=batch_size)"
   ]
  },
  {
   "cell_type": "code",
   "execution_count": 6,
   "metadata": {},
   "outputs": [],
   "source": [
    "class ResNet18Classifier(nn.Module):\n",
    "    def __init__(self, num_classes=10):\n",
    "        super().__init__()\n",
    "\n",
    "        self.resnet = resnet18(pretrained=False)\n",
    "        self.resnet.conv1 = nn.Conv2d(3, 64, kernel_size=3, stride=1, padding=1, bias=False)\n",
    "        self.resnet.maxpool = nn.Identity()\n",
    "        self.resnet.fc = nn.Linear(self.resnet.fc.in_features, num_classes)\n",
    "\n",
    "    def forward(self, x):\n",
    "        return self.resnet(x)"
   ]
  },
  {
   "cell_type": "code",
   "execution_count": 7,
   "metadata": {},
   "outputs": [
    {
     "name": "stderr",
     "output_type": "stream",
     "text": [
      "/home/cs/grad/sokhanka/miniconda3/envs/data-science/lib/python3.10/site-packages/torchvision/models/_utils.py:208: UserWarning: The parameter 'pretrained' is deprecated since 0.13 and may be removed in the future, please use 'weights' instead.\n",
      "  warnings.warn(\n",
      "/home/cs/grad/sokhanka/miniconda3/envs/data-science/lib/python3.10/site-packages/torchvision/models/_utils.py:223: UserWarning: Arguments other than a weight enum or `None` for 'weights' are deprecated since 0.13 and may be removed in the future. The current behavior is equivalent to passing `weights=None`.\n",
      "  warnings.warn(msg)\n"
     ]
    }
   ],
   "source": [
    "device = \"cuda\" if torch.cuda.is_available() else \"cpu\"\n",
    "model = ResNet18Classifier(num_classes=num_classes).to(device)\n",
    "optimizer = torch.optim.Adam(params=model.parameters(), lr=learning_rate, weight_decay=weight_decay)\n",
    "loss_fn = nn.CrossEntropyLoss()\n",
    "scheduler = torch.optim.lr_scheduler.ReduceLROnPlateau(optimizer, \"min\", patience=3)"
   ]
  },
  {
   "cell_type": "code",
   "execution_count": 8,
   "metadata": {},
   "outputs": [],
   "source": [
    "def train():\n",
    "    model.train()\n",
    "    losses = []\n",
    "    model.train()\n",
    "    for b, (X, y) in tqdm(enumerate(train_dataloader)):\n",
    "        X, y = X.to(device), y.to(device)\n",
    "        pred = model(X)\n",
    "        loss = loss_fn(pred, y)\n",
    "\n",
    "        loss.backward()\n",
    "        optimizer.step()\n",
    "        optimizer.zero_grad()\n",
    "        losses.append(loss.item())\n",
    "    return sum(losses)/len(losses)"
   ]
  },
  {
   "cell_type": "code",
   "execution_count": 9,
   "metadata": {},
   "outputs": [],
   "source": [
    "def validate():\n",
    "    model.eval()\n",
    "    with torch.no_grad():\n",
    "        X, y = next(iter(val_dataloader))\n",
    "        X, y = X.to(device), y.to(device)\n",
    "        pred = model(X)\n",
    "        loss = loss_fn(pred, y)\n",
    "    return loss.item()"
   ]
  },
  {
   "cell_type": "code",
   "execution_count": 10,
   "metadata": {},
   "outputs": [
    {
     "name": "stderr",
     "output_type": "stream",
     "text": [
      "1563it [00:55, 28.22it/s]\n",
      "1563it [00:54, 28.71it/s]\n",
      "1563it [00:54, 28.53it/s]\n",
      "1563it [00:54, 28.47it/s]\n",
      "1563it [00:54, 28.65it/s]\n",
      "1563it [00:54, 28.62it/s]\n",
      "1563it [00:56, 27.83it/s]\n",
      "1563it [00:54, 28.49it/s]\n",
      "1563it [00:54, 28.48it/s]\n",
      "1563it [00:55, 28.40it/s]\n",
      "1563it [00:54, 28.49it/s]\n",
      "1563it [00:54, 28.62it/s]\n",
      "1563it [00:55, 28.29it/s]\n",
      "1563it [00:54, 28.93it/s]\n",
      "1563it [00:54, 28.79it/s]\n",
      "1563it [00:54, 28.69it/s]\n",
      "1563it [00:53, 29.14it/s]\n",
      "1563it [00:54, 28.75it/s]\n",
      "1563it [00:55, 28.20it/s]\n",
      "1563it [00:55, 28.23it/s]\n",
      "1563it [00:55, 28.27it/s]\n",
      "1563it [00:54, 28.76it/s]\n",
      "1563it [00:54, 28.80it/s]\n",
      "1563it [00:54, 28.68it/s]\n",
      "1563it [00:56, 27.82it/s]\n",
      "1563it [00:55, 28.29it/s]\n",
      "1563it [00:55, 28.40it/s]\n",
      "1563it [00:55, 28.27it/s]\n",
      "1563it [00:54, 28.48it/s]\n",
      "1563it [00:54, 28.49it/s]\n",
      "1563it [00:55, 28.26it/s]\n",
      "1563it [00:54, 28.55it/s]\n",
      "1563it [00:55, 28.35it/s]\n",
      "1563it [00:55, 28.38it/s]\n",
      "1563it [00:54, 28.46it/s]\n",
      "1563it [00:54, 28.76it/s]\n",
      "1563it [00:54, 28.69it/s]\n",
      "1563it [00:54, 28.51it/s]\n",
      "1563it [00:54, 28.52it/s]\n",
      "1563it [00:55, 28.38it/s]\n",
      "1563it [00:54, 28.55it/s]\n",
      "1563it [00:54, 28.49it/s]\n",
      "1563it [00:54, 28.56it/s]\n",
      "1563it [00:55, 28.24it/s]\n",
      "1563it [00:54, 28.42it/s]\n",
      "1563it [00:55, 28.19it/s]\n",
      "1563it [00:55, 28.38it/s]\n",
      "1563it [00:55, 28.17it/s]\n",
      "1563it [00:55, 27.92it/s]\n",
      "1563it [00:55, 27.93it/s]\n",
      "1563it [00:56, 27.67it/s]\n",
      "1563it [00:56, 27.66it/s]\n",
      "1563it [00:55, 28.27it/s]\n",
      "1563it [00:55, 27.96it/s]\n",
      "1563it [00:56, 27.73it/s]\n",
      "1563it [01:01, 25.34it/s]\n",
      "1563it [01:01, 25.37it/s]\n",
      "1563it [01:00, 25.75it/s]\n",
      "1563it [00:58, 26.87it/s]\n",
      "1563it [00:56, 27.50it/s]\n",
      "1563it [00:58, 26.50it/s]\n",
      "1563it [00:58, 26.90it/s]\n",
      "1563it [01:02, 24.99it/s]\n",
      "1563it [00:59, 26.21it/s]\n",
      "1563it [01:02, 25.16it/s]\n",
      "1563it [00:59, 26.09it/s]\n",
      "1563it [00:56, 27.89it/s]\n",
      "1563it [00:57, 27.24it/s]\n",
      "1563it [00:57, 27.37it/s]\n",
      "1563it [00:57, 27.35it/s]\n",
      "1563it [01:02, 24.86it/s]\n",
      "1563it [01:00, 25.93it/s]\n",
      "1563it [00:57, 27.06it/s]\n",
      "1563it [00:57, 27.32it/s]\n",
      "1563it [00:55, 28.01it/s]\n",
      "1563it [00:56, 27.74it/s]\n",
      "1563it [00:55, 28.17it/s]\n",
      "1563it [00:54, 28.44it/s]\n",
      "1563it [00:58, 26.80it/s]\n",
      "1563it [01:02, 25.05it/s]\n",
      "1563it [01:02, 25.15it/s]\n",
      "1563it [00:59, 26.34it/s]\n",
      "1563it [00:57, 27.16it/s]\n",
      "1563it [00:58, 26.83it/s]\n",
      "1563it [00:59, 26.22it/s]\n",
      "1563it [00:56, 27.67it/s]\n",
      "1563it [00:58, 26.93it/s]\n",
      "1563it [01:01, 25.54it/s]\n",
      "1563it [01:02, 25.02it/s]\n",
      "1563it [01:00, 25.72it/s]\n",
      "1563it [01:00, 25.91it/s]\n",
      "1563it [00:55, 28.02it/s]\n",
      "1563it [00:56, 27.66it/s]\n",
      "1563it [00:56, 27.81it/s]\n",
      "1563it [00:56, 27.80it/s]\n",
      "1563it [00:56, 27.74it/s]\n",
      "1563it [00:56, 27.72it/s]\n",
      "1563it [00:55, 27.92it/s]\n",
      "1563it [00:55, 28.00it/s]\n",
      "1563it [00:56, 27.68it/s]\n"
     ]
    }
   ],
   "source": [
    "data = []\n",
    "for e in range(epochs):\n",
    "    loss = train()\n",
    "    val_loss = validate()\n",
    "    scheduler.step(val_loss)\n",
    "    data.append({\n",
    "        \"epoch\" : e + 1,\n",
    "        \"train_loss\" : loss,\n",
    "        \"val_loss\" : val_loss\n",
    "    })"
   ]
  },
  {
   "cell_type": "code",
   "execution_count": 12,
   "metadata": {},
   "outputs": [],
   "source": [
    "with open(\"./results/cifar100.json\", \"w\") as f:\n",
    "    f.write(json.dumps(data, indent=2))"
   ]
  }
 ],
 "metadata": {
  "kernelspec": {
   "display_name": "data-science",
   "language": "python",
   "name": "python3"
  },
  "language_info": {
   "codemirror_mode": {
    "name": "ipython",
    "version": 3
   },
   "file_extension": ".py",
   "mimetype": "text/x-python",
   "name": "python",
   "nbconvert_exporter": "python",
   "pygments_lexer": "ipython3",
   "version": "3.10.16"
  }
 },
 "nbformat": 4,
 "nbformat_minor": 2
}
